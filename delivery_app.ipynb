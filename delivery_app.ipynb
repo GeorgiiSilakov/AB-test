{
 "cells": [
  {
   "cell_type": "code",
   "execution_count": 151,
   "metadata": {
    "ExecuteTime": {
     "end_time": "2023-12-24T08:38:07.184669Z",
     "start_time": "2023-12-24T08:38:07.093431Z"
    },
    "trusted": false
   },
   "outputs": [],
   "source": [
    "import pandas as pd\n",
    "import numpy as np\n",
    "\n",
    "from scipy import stats\n",
    "from scipy.stats import chi2_contingency\n",
    "\n",
    "import seaborn as sns\n",
    "\n",
    "%matplotlib inline\n"
   ]
  },
  {
   "cell_type": "code",
   "execution_count": 152,
   "metadata": {
    "ExecuteTime": {
     "end_time": "2023-12-24T08:38:07.188330Z",
     "start_time": "2023-12-24T08:38:07.182523Z"
    },
    "trusted": false
   },
   "outputs": [],
   "source": [
    "sns.set(\n",
    "    font_scale = 1, #Размер шрифта\n",
    "    style      = \"whitegrid\", # общий вид графиков\n",
    "    rc         = {'figure.figsize':(12,6)} # размер фигуры\n",
    ")\n"
   ]
  },
  {
   "cell_type": "code",
   "execution_count": 153,
   "metadata": {
    "ExecuteTime": {
     "end_time": "2023-12-24T08:38:07.203964Z",
     "start_time": "2023-12-24T08:38:07.189323Z"
    },
    "trusted": false
   },
   "outputs": [],
   "source": [
    "users = pd.read_csv('/Users/georgiisilakov/DataspellProjects/AB_tests/Delivered/ab_users_data.csv') #загружаем датасет с пользователями\n"
   ]
  },
  {
   "cell_type": "code",
   "execution_count": 154,
   "metadata": {
    "ExecuteTime": {
     "end_time": "2023-12-24T08:38:07.229288Z",
     "start_time": "2023-12-24T08:38:07.196574Z"
    },
    "trusted": false
   },
   "outputs": [],
   "source": [
    "orders = pd.read_csv('/Users/georgiisilakov/DataspellProjects/AB_tests/Delivered/ab_orders.csv') #загружаем датасет с заказами\n"
   ]
  },
  {
   "cell_type": "code",
   "execution_count": 155,
   "metadata": {
    "ExecuteTime": {
     "end_time": "2023-12-24T08:38:07.232929Z",
     "start_time": "2023-12-24T08:38:07.204459Z"
    },
    "trusted": false
   },
   "outputs": [
    {
     "data": {
      "text/html": [
       "<div>\n",
       "<style scoped>\n",
       "    .dataframe tbody tr th:only-of-type {\n",
       "        vertical-align: middle;\n",
       "    }\n",
       "\n",
       "    .dataframe tbody tr th {\n",
       "        vertical-align: top;\n",
       "    }\n",
       "\n",
       "    .dataframe thead th {\n",
       "        text-align: right;\n",
       "    }\n",
       "</style>\n",
       "<table border=\"1\" class=\"dataframe\">\n",
       "  <thead>\n",
       "    <tr style=\"text-align: right;\">\n",
       "      <th></th>\n",
       "      <th>order_id</th>\n",
       "      <th>creation_time</th>\n",
       "      <th>product_ids</th>\n",
       "    </tr>\n",
       "  </thead>\n",
       "  <tbody>\n",
       "    <tr>\n",
       "      <th>0</th>\n",
       "      <td>1255</td>\n",
       "      <td>2022-08-26 00:00:19.000000</td>\n",
       "      <td>{75, 22, 53, 84}</td>\n",
       "    </tr>\n",
       "    <tr>\n",
       "      <th>1</th>\n",
       "      <td>1256</td>\n",
       "      <td>2022-08-26 00:02:21.000000</td>\n",
       "      <td>{56, 76, 39}</td>\n",
       "    </tr>\n",
       "    <tr>\n",
       "      <th>2</th>\n",
       "      <td>1257</td>\n",
       "      <td>2022-08-26 00:02:27.000000</td>\n",
       "      <td>{76, 34, 41, 38}</td>\n",
       "    </tr>\n",
       "    <tr>\n",
       "      <th>3</th>\n",
       "      <td>1258</td>\n",
       "      <td>2022-08-26 00:02:56.000000</td>\n",
       "      <td>{74, 6}</td>\n",
       "    </tr>\n",
       "    <tr>\n",
       "      <th>4</th>\n",
       "      <td>1259</td>\n",
       "      <td>2022-08-26 00:03:37.000000</td>\n",
       "      <td>{20, 45, 67, 26}</td>\n",
       "    </tr>\n",
       "  </tbody>\n",
       "</table>\n",
       "</div>"
      ],
      "text/plain": [
       "   order_id               creation_time       product_ids\n",
       "0      1255  2022-08-26 00:00:19.000000  {75, 22, 53, 84}\n",
       "1      1256  2022-08-26 00:02:21.000000      {56, 76, 39}\n",
       "2      1257  2022-08-26 00:02:27.000000  {76, 34, 41, 38}\n",
       "3      1258  2022-08-26 00:02:56.000000           {74, 6}\n",
       "4      1259  2022-08-26 00:03:37.000000  {20, 45, 67, 26}"
      ]
     },
     "execution_count": 155,
     "metadata": {},
     "output_type": "execute_result"
    }
   ],
   "source": [
    "orders.head()\n"
   ]
  },
  {
   "cell_type": "raw",
   "metadata": {},
   "source": [
    "Датасет orders необходимо предобрабработать - преобразовать каждый элемент в колонке  product_ids в строку, для удобства дальнейшей работы\n"
   ]
  },
  {
   "cell_type": "code",
   "execution_count": 156,
   "metadata": {
    "ExecuteTime": {
     "end_time": "2023-12-24T08:38:07.233622Z",
     "start_time": "2023-12-24T08:38:07.207526Z"
    },
    "trusted": false
   },
   "outputs": [],
   "source": [
    "orders['product_ids'] = orders['product_ids'].apply(lambda x: x.strip(\"{}\")) # Убраем фигурные скобки\n"
   ]
  },
  {
   "cell_type": "code",
   "execution_count": 157,
   "metadata": {
    "ExecuteTime": {
     "end_time": "2023-12-24T08:38:07.264976Z",
     "start_time": "2023-12-24T08:38:07.234752Z"
    },
    "trusted": false
   },
   "outputs": [],
   "source": [
    "orders['product_ids'] = orders['product_ids'].apply(lambda x: x.split(\",\")) # Разделяем элементы по \",\"\n"
   ]
  },
  {
   "cell_type": "code",
   "execution_count": 158,
   "metadata": {
    "ExecuteTime": {
     "end_time": "2023-12-24T08:38:07.267994Z",
     "start_time": "2023-12-24T08:38:07.252204Z"
    },
    "trusted": false
   },
   "outputs": [],
   "source": [
    "orders = orders.explode('product_ids')\n",
    "#Используем explode, чтобы преобразовать каждый элемент в списке в строку\n"
   ]
  },
  {
   "cell_type": "code",
   "execution_count": 159,
   "metadata": {
    "ExecuteTime": {
     "end_time": "2023-12-24T08:38:07.314215Z",
     "start_time": "2023-12-24T08:38:07.269026Z"
    },
    "trusted": false
   },
   "outputs": [],
   "source": [
    "orders = orders.rename(columns = {'product_ids' : 'product_id'})\n",
    "orders.product_id = orders.product_id.astype(int)\n",
    "#Переименовываем колонку и меняем формат на числовой для соединения с датасетом products\n"
   ]
  },
  {
   "cell_type": "code",
   "execution_count": 160,
   "metadata": {
    "ExecuteTime": {
     "end_time": "2023-12-24T08:38:07.320417Z",
     "start_time": "2023-12-24T08:38:07.315100Z"
    },
    "trusted": false
   },
   "outputs": [],
   "source": [
    "products = pd.read_csv('/Users/georgiisilakov/DataspellProjects/AB_tests/Delivered/ab_products.csv') #загружаем датасет с информацией о продуктах\n"
   ]
  },
  {
   "cell_type": "code",
   "execution_count": 161,
   "metadata": {
    "ExecuteTime": {
     "end_time": "2023-12-24T08:38:07.337704Z",
     "start_time": "2023-12-24T08:38:07.320709Z"
    },
    "trusted": false
   },
   "outputs": [],
   "source": [
    "products.product_id = products.product_id.astype('int')\n",
    "#В products также меняем формат для объединения с orders\n"
   ]
  },
  {
   "cell_type": "code",
   "execution_count": 162,
   "metadata": {
    "ExecuteTime": {
     "end_time": "2023-12-24T08:38:07.338720Z",
     "start_time": "2023-12-24T08:38:07.324680Z"
    },
    "trusted": false
   },
   "outputs": [],
   "source": [
    "ord_prod = orders.merge(products, how = 'left', on = 'product_id') #Соединяем датасеты\n"
   ]
  },
  {
   "cell_type": "code",
   "execution_count": 163,
   "metadata": {
    "ExecuteTime": {
     "end_time": "2023-12-24T08:38:07.369495Z",
     "start_time": "2023-12-24T08:38:07.341389Z"
    },
    "trusted": false
   },
   "outputs": [
    {
     "data": {
      "text/html": [
       "<div>\n",
       "<style scoped>\n",
       "    .dataframe tbody tr th:only-of-type {\n",
       "        vertical-align: middle;\n",
       "    }\n",
       "\n",
       "    .dataframe tbody tr th {\n",
       "        vertical-align: top;\n",
       "    }\n",
       "\n",
       "    .dataframe thead th {\n",
       "        text-align: right;\n",
       "    }\n",
       "</style>\n",
       "<table border=\"1\" class=\"dataframe\">\n",
       "  <thead>\n",
       "    <tr style=\"text-align: right;\">\n",
       "      <th></th>\n",
       "      <th>order_id</th>\n",
       "      <th>creation_time</th>\n",
       "      <th>product_id</th>\n",
       "      <th>name</th>\n",
       "      <th>price</th>\n",
       "    </tr>\n",
       "  </thead>\n",
       "  <tbody>\n",
       "    <tr>\n",
       "      <th>0</th>\n",
       "      <td>1255</td>\n",
       "      <td>2022-08-26 00:00:19.000000</td>\n",
       "      <td>75</td>\n",
       "      <td>сок ананасовый</td>\n",
       "      <td>120.0</td>\n",
       "    </tr>\n",
       "    <tr>\n",
       "      <th>1</th>\n",
       "      <td>1255</td>\n",
       "      <td>2022-08-26 00:00:19.000000</td>\n",
       "      <td>22</td>\n",
       "      <td>сок мультифрукт</td>\n",
       "      <td>120.0</td>\n",
       "    </tr>\n",
       "    <tr>\n",
       "      <th>2</th>\n",
       "      <td>1255</td>\n",
       "      <td>2022-08-26 00:00:19.000000</td>\n",
       "      <td>53</td>\n",
       "      <td>мука</td>\n",
       "      <td>78.3</td>\n",
       "    </tr>\n",
       "    <tr>\n",
       "      <th>3</th>\n",
       "      <td>1255</td>\n",
       "      <td>2022-08-26 00:00:19.000000</td>\n",
       "      <td>84</td>\n",
       "      <td>мандарины</td>\n",
       "      <td>90.4</td>\n",
       "    </tr>\n",
       "    <tr>\n",
       "      <th>4</th>\n",
       "      <td>1256</td>\n",
       "      <td>2022-08-26 00:02:21.000000</td>\n",
       "      <td>56</td>\n",
       "      <td>сосиски</td>\n",
       "      <td>150.0</td>\n",
       "    </tr>\n",
       "  </tbody>\n",
       "</table>\n",
       "</div>"
      ],
      "text/plain": [
       "   order_id               creation_time  product_id             name  price\n",
       "0      1255  2022-08-26 00:00:19.000000          75   сок ананасовый  120.0\n",
       "1      1255  2022-08-26 00:00:19.000000          22  сок мультифрукт  120.0\n",
       "2      1255  2022-08-26 00:00:19.000000          53             мука   78.3\n",
       "3      1255  2022-08-26 00:00:19.000000          84        мандарины   90.4\n",
       "4      1256  2022-08-26 00:02:21.000000          56          сосиски  150.0"
      ]
     },
     "execution_count": 163,
     "metadata": {},
     "output_type": "execute_result"
    }
   ],
   "source": [
    "ord_prod.head()\n"
   ]
  },
  {
   "cell_type": "code",
   "execution_count": 164,
   "metadata": {
    "ExecuteTime": {
     "end_time": "2023-12-24T08:38:07.388824Z",
     "start_time": "2023-12-24T08:38:07.362815Z"
    },
    "trusted": false
   },
   "outputs": [],
   "source": [
    "user_order_prod = users.merge(ord_prod, how = 'left', on = 'order_id')\n",
    "#Объединяем полученый датасет с датасетом с информацией о пользователях\n"
   ]
  },
  {
   "cell_type": "code",
   "execution_count": 165,
   "metadata": {
    "ExecuteTime": {
     "end_time": "2023-12-24T08:38:07.406009Z",
     "start_time": "2023-12-24T08:38:07.375452Z"
    },
    "trusted": false
   },
   "outputs": [
    {
     "data": {
      "text/html": [
       "<div>\n",
       "<style scoped>\n",
       "    .dataframe tbody tr th:only-of-type {\n",
       "        vertical-align: middle;\n",
       "    }\n",
       "\n",
       "    .dataframe tbody tr th {\n",
       "        vertical-align: top;\n",
       "    }\n",
       "\n",
       "    .dataframe thead th {\n",
       "        text-align: right;\n",
       "    }\n",
       "</style>\n",
       "<table border=\"1\" class=\"dataframe\">\n",
       "  <thead>\n",
       "    <tr style=\"text-align: right;\">\n",
       "      <th></th>\n",
       "      <th>user_id</th>\n",
       "      <th>order_id</th>\n",
       "      <th>action</th>\n",
       "      <th>time</th>\n",
       "      <th>date</th>\n",
       "      <th>group</th>\n",
       "      <th>creation_time</th>\n",
       "      <th>product_id</th>\n",
       "      <th>name</th>\n",
       "      <th>price</th>\n",
       "    </tr>\n",
       "  </thead>\n",
       "  <tbody>\n",
       "    <tr>\n",
       "      <th>0</th>\n",
       "      <td>964</td>\n",
       "      <td>1255</td>\n",
       "      <td>create_order</td>\n",
       "      <td>2022-08-26 00:00:19.000000</td>\n",
       "      <td>2022-08-26</td>\n",
       "      <td>0</td>\n",
       "      <td>2022-08-26 00:00:19.000000</td>\n",
       "      <td>75</td>\n",
       "      <td>сок ананасовый</td>\n",
       "      <td>120.0</td>\n",
       "    </tr>\n",
       "    <tr>\n",
       "      <th>1</th>\n",
       "      <td>964</td>\n",
       "      <td>1255</td>\n",
       "      <td>create_order</td>\n",
       "      <td>2022-08-26 00:00:19.000000</td>\n",
       "      <td>2022-08-26</td>\n",
       "      <td>0</td>\n",
       "      <td>2022-08-26 00:00:19.000000</td>\n",
       "      <td>22</td>\n",
       "      <td>сок мультифрукт</td>\n",
       "      <td>120.0</td>\n",
       "    </tr>\n",
       "    <tr>\n",
       "      <th>2</th>\n",
       "      <td>964</td>\n",
       "      <td>1255</td>\n",
       "      <td>create_order</td>\n",
       "      <td>2022-08-26 00:00:19.000000</td>\n",
       "      <td>2022-08-26</td>\n",
       "      <td>0</td>\n",
       "      <td>2022-08-26 00:00:19.000000</td>\n",
       "      <td>53</td>\n",
       "      <td>мука</td>\n",
       "      <td>78.3</td>\n",
       "    </tr>\n",
       "    <tr>\n",
       "      <th>3</th>\n",
       "      <td>964</td>\n",
       "      <td>1255</td>\n",
       "      <td>create_order</td>\n",
       "      <td>2022-08-26 00:00:19.000000</td>\n",
       "      <td>2022-08-26</td>\n",
       "      <td>0</td>\n",
       "      <td>2022-08-26 00:00:19.000000</td>\n",
       "      <td>84</td>\n",
       "      <td>мандарины</td>\n",
       "      <td>90.4</td>\n",
       "    </tr>\n",
       "    <tr>\n",
       "      <th>4</th>\n",
       "      <td>965</td>\n",
       "      <td>1256</td>\n",
       "      <td>create_order</td>\n",
       "      <td>2022-08-26 00:02:21.000000</td>\n",
       "      <td>2022-08-26</td>\n",
       "      <td>1</td>\n",
       "      <td>2022-08-26 00:02:21.000000</td>\n",
       "      <td>56</td>\n",
       "      <td>сосиски</td>\n",
       "      <td>150.0</td>\n",
       "    </tr>\n",
       "  </tbody>\n",
       "</table>\n",
       "</div>"
      ],
      "text/plain": [
       "   user_id  order_id        action                        time        date  \\\n",
       "0      964      1255  create_order  2022-08-26 00:00:19.000000  2022-08-26   \n",
       "1      964      1255  create_order  2022-08-26 00:00:19.000000  2022-08-26   \n",
       "2      964      1255  create_order  2022-08-26 00:00:19.000000  2022-08-26   \n",
       "3      964      1255  create_order  2022-08-26 00:00:19.000000  2022-08-26   \n",
       "4      965      1256  create_order  2022-08-26 00:02:21.000000  2022-08-26   \n",
       "\n",
       "   group               creation_time  product_id             name  price  \n",
       "0      0  2022-08-26 00:00:19.000000          75   сок ананасовый  120.0  \n",
       "1      0  2022-08-26 00:00:19.000000          22  сок мультифрукт  120.0  \n",
       "2      0  2022-08-26 00:00:19.000000          53             мука   78.3  \n",
       "3      0  2022-08-26 00:00:19.000000          84        мандарины   90.4  \n",
       "4      1  2022-08-26 00:02:21.000000          56          сосиски  150.0  "
      ]
     },
     "execution_count": 165,
     "metadata": {},
     "output_type": "execute_result"
    }
   ],
   "source": [
    "user_order_prod.head()\n"
   ]
  },
  {
   "cell_type": "markdown",
   "metadata": {},
   "source": [
    "### Посмотрим как изменилось общее число заказов:"
   ]
  },
  {
   "cell_type": "code",
   "execution_count": 166,
   "metadata": {
    "ExecuteTime": {
     "end_time": "2023-12-24T08:38:07.445377Z",
     "start_time": "2023-12-24T08:38:07.395888Z"
    },
    "trusted": false
   },
   "outputs": [
    {
     "data": {
      "text/html": [
       "<div>\n",
       "<style scoped>\n",
       "    .dataframe tbody tr th:only-of-type {\n",
       "        vertical-align: middle;\n",
       "    }\n",
       "\n",
       "    .dataframe tbody tr th {\n",
       "        vertical-align: top;\n",
       "    }\n",
       "\n",
       "    .dataframe thead th {\n",
       "        text-align: right;\n",
       "    }\n",
       "</style>\n",
       "<table border=\"1\" class=\"dataframe\">\n",
       "  <thead>\n",
       "    <tr style=\"text-align: right;\">\n",
       "      <th></th>\n",
       "      <th>user_id</th>\n",
       "      <th>order_id</th>\n",
       "      <th>action</th>\n",
       "      <th>time</th>\n",
       "      <th>date</th>\n",
       "      <th>group</th>\n",
       "    </tr>\n",
       "  </thead>\n",
       "  <tbody>\n",
       "    <tr>\n",
       "      <th>0</th>\n",
       "      <td>964</td>\n",
       "      <td>1255</td>\n",
       "      <td>create_order</td>\n",
       "      <td>2022-08-26 00:00:19.000000</td>\n",
       "      <td>2022-08-26</td>\n",
       "      <td>0</td>\n",
       "    </tr>\n",
       "    <tr>\n",
       "      <th>1</th>\n",
       "      <td>965</td>\n",
       "      <td>1256</td>\n",
       "      <td>create_order</td>\n",
       "      <td>2022-08-26 00:02:21.000000</td>\n",
       "      <td>2022-08-26</td>\n",
       "      <td>1</td>\n",
       "    </tr>\n",
       "    <tr>\n",
       "      <th>2</th>\n",
       "      <td>964</td>\n",
       "      <td>1257</td>\n",
       "      <td>create_order</td>\n",
       "      <td>2022-08-26 00:02:27.000000</td>\n",
       "      <td>2022-08-26</td>\n",
       "      <td>0</td>\n",
       "    </tr>\n",
       "    <tr>\n",
       "      <th>3</th>\n",
       "      <td>966</td>\n",
       "      <td>1258</td>\n",
       "      <td>create_order</td>\n",
       "      <td>2022-08-26 00:02:56.000000</td>\n",
       "      <td>2022-08-26</td>\n",
       "      <td>0</td>\n",
       "    </tr>\n",
       "    <tr>\n",
       "      <th>4</th>\n",
       "      <td>967</td>\n",
       "      <td>1259</td>\n",
       "      <td>create_order</td>\n",
       "      <td>2022-08-26 00:03:37.000000</td>\n",
       "      <td>2022-08-26</td>\n",
       "      <td>1</td>\n",
       "    </tr>\n",
       "  </tbody>\n",
       "</table>\n",
       "</div>"
      ],
      "text/plain": [
       "   user_id  order_id        action                        time        date  \\\n",
       "0      964      1255  create_order  2022-08-26 00:00:19.000000  2022-08-26   \n",
       "1      965      1256  create_order  2022-08-26 00:02:21.000000  2022-08-26   \n",
       "2      964      1257  create_order  2022-08-26 00:02:27.000000  2022-08-26   \n",
       "3      966      1258  create_order  2022-08-26 00:02:56.000000  2022-08-26   \n",
       "4      967      1259  create_order  2022-08-26 00:03:37.000000  2022-08-26   \n",
       "\n",
       "   group  \n",
       "0      0  \n",
       "1      1  \n",
       "2      0  \n",
       "3      0  \n",
       "4      1  "
      ]
     },
     "execution_count": 166,
     "metadata": {},
     "output_type": "execute_result"
    }
   ],
   "source": [
    "users.head()\n"
   ]
  },
  {
   "cell_type": "markdown",
   "metadata": {
    "collapsed": false
   },
   "source": [
    "Посмотрим на временой период в двух группах"
   ]
  },
  {
   "cell_type": "code",
   "execution_count": 167,
   "metadata": {
    "ExecuteTime": {
     "end_time": "2023-12-24T08:38:07.457901Z",
     "start_time": "2023-12-24T08:38:07.411638Z"
    },
    "trusted": false
   },
   "outputs": [
    {
     "data": {
      "text/plain": [
       "('2022-08-26 00:00:19.000000', '2022-09-08 23:41:24.000000')"
      ]
     },
     "execution_count": 167,
     "metadata": {},
     "output_type": "execute_result"
    }
   ],
   "source": [
    "users[users['group'] == 0].time.min(),users[users['group'] == 0].time.max()\n"
   ]
  },
  {
   "cell_type": "code",
   "execution_count": 168,
   "metadata": {
    "ExecuteTime": {
     "end_time": "2023-12-24T08:38:07.493060Z",
     "start_time": "2023-12-24T08:38:07.460013Z"
    },
    "trusted": false
   },
   "outputs": [
    {
     "data": {
      "text/plain": [
       "('2022-08-26 00:02:21.000000', '2022-09-08 23:18:05.000000')"
      ]
     },
     "execution_count": 168,
     "metadata": {},
     "output_type": "execute_result"
    }
   ],
   "source": [
    "users[users['group'] == 1].time.min(),users[users['group'] == 1].time.max()\n"
   ]
  },
  {
   "cell_type": "markdown",
   "metadata": {},
   "source": [
    "Даты первой и последней покупки в обеих группах совпадают, это значит, что анализируемый период одинаков для обеих групп, поэтому можем просто сравнить активность двух групп по количеству ордеров"
   ]
  },
  {
   "cell_type": "code",
   "execution_count": 169,
   "metadata": {
    "ExecuteTime": {
     "end_time": "2023-12-24T08:38:07.517022Z",
     "start_time": "2023-12-24T08:38:07.482070Z"
    },
    "trusted": false
   },
   "outputs": [],
   "source": [
    "df_orders = users.groupby(['group','action'], as_index = False).agg({'order_id' : 'count'}) \\\n",
    "    .pivot(index = 'group' , columns = 'action' , values = 'order_id').reset_index()\n"
   ]
  },
  {
   "cell_type": "code",
   "execution_count": 170,
   "metadata": {
    "ExecuteTime": {
     "end_time": "2023-12-24T08:38:07.543502Z",
     "start_time": "2023-12-24T08:38:07.519972Z"
    },
    "trusted": false
   },
   "outputs": [
    {
     "data": {
      "text/html": [
       "<div>\n",
       "<style scoped>\n",
       "    .dataframe tbody tr th:only-of-type {\n",
       "        vertical-align: middle;\n",
       "    }\n",
       "\n",
       "    .dataframe tbody tr th {\n",
       "        vertical-align: top;\n",
       "    }\n",
       "\n",
       "    .dataframe thead th {\n",
       "        text-align: right;\n",
       "    }\n",
       "</style>\n",
       "<table border=\"1\" class=\"dataframe\">\n",
       "  <thead>\n",
       "    <tr style=\"text-align: right;\">\n",
       "      <th>action</th>\n",
       "      <th>group</th>\n",
       "      <th>cancel_order</th>\n",
       "      <th>create_order</th>\n",
       "      <th>cancel_percent</th>\n",
       "    </tr>\n",
       "  </thead>\n",
       "  <tbody>\n",
       "    <tr>\n",
       "      <th>0</th>\n",
       "      <td>0</td>\n",
       "      <td>82</td>\n",
       "      <td>1609</td>\n",
       "      <td>5.10</td>\n",
       "    </tr>\n",
       "    <tr>\n",
       "      <th>1</th>\n",
       "      <td>1</td>\n",
       "      <td>132</td>\n",
       "      <td>2514</td>\n",
       "      <td>5.25</td>\n",
       "    </tr>\n",
       "  </tbody>\n",
       "</table>\n",
       "</div>"
      ],
      "text/plain": [
       "action  group  cancel_order  create_order  cancel_percent\n",
       "0           0            82          1609            5.10\n",
       "1           1           132          2514            5.25"
      ]
     },
     "execution_count": 170,
     "metadata": {},
     "output_type": "execute_result"
    }
   ],
   "source": [
    "df_orders = df_orders.assign(cancel_percent = df_orders.cancel_order / df_orders.create_order * 100).round(2)\n",
    "df_orders\n"
   ]
  },
  {
   "cell_type": "markdown",
   "metadata": {},
   "source": [
    "### Вывод:\n",
    "Как видно из таблицы выше количество созданных ордеров в группе 1, где работала новая система рекомендаций выше, чем в группе 0 на 905 ордеров или 56%. В то же время % отмененных ордеров практически на том же уровне - порядка 5%.\n",
    "Из этого можно сделать вывод, что новая система рекомендаций товаров положительно влияет на желание пользователей оформлять заказ, в то же время не увеличивая удельный вес отмененных ордеров."
   ]
  },
  {
   "cell_type": "markdown",
   "metadata": {},
   "source": [
    "### Сравним частоту возвращения пользователей в наше приложение:"
   ]
  },
  {
   "cell_type": "markdown",
   "metadata": {},
   "source": [
    "### Гипотеза: оказала ли новая система рекомендаций статистически значимое влияние на возвращение пользователей в приложение(retention)"
   ]
  },
  {
   "cell_type": "markdown",
   "metadata": {},
   "source": [
    "- H0 - частота возвращения пользователей группы 0 и группы 1 в наше приложение не отличается статистически значимо\n",
    "- H1 - частота возвращения пользователей группы 0 и группы 1 в наше приложение отличается статистически значимо"
   ]
  },
  {
   "cell_type": "code",
   "execution_count": 171,
   "metadata": {
    "ExecuteTime": {
     "end_time": "2023-12-24T08:38:07.584385Z",
     "start_time": "2023-12-24T08:38:07.545546Z"
    },
    "trusted": false
   },
   "outputs": [],
   "source": [
    "users.time = pd.to_datetime(users.time) #Переведем в формат datetime для работы со временем\n"
   ]
  },
  {
   "cell_type": "code",
   "execution_count": 172,
   "metadata": {
    "ExecuteTime": {
     "end_time": "2023-12-24T08:38:07.616484Z",
     "start_time": "2023-12-24T08:38:07.584898Z"
    },
    "trusted": false
   },
   "outputs": [],
   "source": [
    "users.time = users.time.dt.strftime('%Y-%m-%d')\n"
   ]
  },
  {
   "cell_type": "code",
   "execution_count": 173,
   "metadata": {
    "ExecuteTime": {
     "end_time": "2023-12-24T08:38:07.643842Z",
     "start_time": "2023-12-24T08:38:07.610188Z"
    },
    "trusted": false
   },
   "outputs": [],
   "source": [
    "users['first_buy'] = users.groupby('user_id')['time'].transform('min')\n",
    "#запишем в колонку first_buy минмальную дату покупки по пользователям\n"
   ]
  },
  {
   "cell_type": "code",
   "execution_count": 174,
   "metadata": {
    "ExecuteTime": {
     "end_time": "2023-12-24T08:38:07.650995Z",
     "start_time": "2023-12-24T08:38:07.638048Z"
    },
    "trusted": false
   },
   "outputs": [],
   "source": [
    "users['retention'] = (users.time == users.first_buy)\n",
    "users['retention'] = (-users['retention']).astype(np.int8)\n",
    "# Если минимальная дата покупки отличается от актуальной - значит пользователь сделал заказ вновь - 1 в retention\n"
   ]
  },
  {
   "cell_type": "code",
   "execution_count": 175,
   "metadata": {
    "ExecuteTime": {
     "end_time": "2023-12-24T08:38:07.691397Z",
     "start_time": "2023-12-24T08:38:07.655096Z"
    },
    "trusted": false
   },
   "outputs": [
    {
     "data": {
      "text/html": [
       "<div>\n",
       "<style scoped>\n",
       "    .dataframe tbody tr th:only-of-type {\n",
       "        vertical-align: middle;\n",
       "    }\n",
       "\n",
       "    .dataframe tbody tr th {\n",
       "        vertical-align: top;\n",
       "    }\n",
       "\n",
       "    .dataframe thead th {\n",
       "        text-align: right;\n",
       "    }\n",
       "</style>\n",
       "<table border=\"1\" class=\"dataframe\">\n",
       "  <thead>\n",
       "    <tr style=\"text-align: right;\">\n",
       "      <th></th>\n",
       "      <th>user_id</th>\n",
       "      <th>order_id</th>\n",
       "      <th>action</th>\n",
       "      <th>time</th>\n",
       "      <th>date</th>\n",
       "      <th>group</th>\n",
       "      <th>first_buy</th>\n",
       "      <th>retention</th>\n",
       "    </tr>\n",
       "  </thead>\n",
       "  <tbody>\n",
       "    <tr>\n",
       "      <th>0</th>\n",
       "      <td>964</td>\n",
       "      <td>1255</td>\n",
       "      <td>create_order</td>\n",
       "      <td>2022-08-26</td>\n",
       "      <td>2022-08-26</td>\n",
       "      <td>0</td>\n",
       "      <td>2022-08-26</td>\n",
       "      <td>0</td>\n",
       "    </tr>\n",
       "    <tr>\n",
       "      <th>1</th>\n",
       "      <td>965</td>\n",
       "      <td>1256</td>\n",
       "      <td>create_order</td>\n",
       "      <td>2022-08-26</td>\n",
       "      <td>2022-08-26</td>\n",
       "      <td>1</td>\n",
       "      <td>2022-08-26</td>\n",
       "      <td>0</td>\n",
       "    </tr>\n",
       "    <tr>\n",
       "      <th>2</th>\n",
       "      <td>964</td>\n",
       "      <td>1257</td>\n",
       "      <td>create_order</td>\n",
       "      <td>2022-08-26</td>\n",
       "      <td>2022-08-26</td>\n",
       "      <td>0</td>\n",
       "      <td>2022-08-26</td>\n",
       "      <td>0</td>\n",
       "    </tr>\n",
       "    <tr>\n",
       "      <th>3</th>\n",
       "      <td>966</td>\n",
       "      <td>1258</td>\n",
       "      <td>create_order</td>\n",
       "      <td>2022-08-26</td>\n",
       "      <td>2022-08-26</td>\n",
       "      <td>0</td>\n",
       "      <td>2022-08-26</td>\n",
       "      <td>0</td>\n",
       "    </tr>\n",
       "    <tr>\n",
       "      <th>4</th>\n",
       "      <td>967</td>\n",
       "      <td>1259</td>\n",
       "      <td>create_order</td>\n",
       "      <td>2022-08-26</td>\n",
       "      <td>2022-08-26</td>\n",
       "      <td>1</td>\n",
       "      <td>2022-08-26</td>\n",
       "      <td>0</td>\n",
       "    </tr>\n",
       "    <tr>\n",
       "      <th>...</th>\n",
       "      <td>...</td>\n",
       "      <td>...</td>\n",
       "      <td>...</td>\n",
       "      <td>...</td>\n",
       "      <td>...</td>\n",
       "      <td>...</td>\n",
       "      <td>...</td>\n",
       "      <td>...</td>\n",
       "    </tr>\n",
       "    <tr>\n",
       "      <th>4332</th>\n",
       "      <td>990</td>\n",
       "      <td>59422</td>\n",
       "      <td>create_order</td>\n",
       "      <td>2022-09-08</td>\n",
       "      <td>2022-09-08</td>\n",
       "      <td>1</td>\n",
       "      <td>2022-08-26</td>\n",
       "      <td>1</td>\n",
       "    </tr>\n",
       "    <tr>\n",
       "      <th>4333</th>\n",
       "      <td>1418</td>\n",
       "      <td>59439</td>\n",
       "      <td>create_order</td>\n",
       "      <td>2022-09-08</td>\n",
       "      <td>2022-09-08</td>\n",
       "      <td>1</td>\n",
       "      <td>2022-08-26</td>\n",
       "      <td>1</td>\n",
       "    </tr>\n",
       "    <tr>\n",
       "      <th>4334</th>\n",
       "      <td>1605</td>\n",
       "      <td>59464</td>\n",
       "      <td>create_order</td>\n",
       "      <td>2022-09-08</td>\n",
       "      <td>2022-09-08</td>\n",
       "      <td>0</td>\n",
       "      <td>2022-08-26</td>\n",
       "      <td>1</td>\n",
       "    </tr>\n",
       "    <tr>\n",
       "      <th>4335</th>\n",
       "      <td>1461</td>\n",
       "      <td>59487</td>\n",
       "      <td>create_order</td>\n",
       "      <td>2022-09-08</td>\n",
       "      <td>2022-09-08</td>\n",
       "      <td>0</td>\n",
       "      <td>2022-08-26</td>\n",
       "      <td>1</td>\n",
       "    </tr>\n",
       "    <tr>\n",
       "      <th>4336</th>\n",
       "      <td>1376</td>\n",
       "      <td>59533</td>\n",
       "      <td>create_order</td>\n",
       "      <td>2022-09-08</td>\n",
       "      <td>2022-09-08</td>\n",
       "      <td>0</td>\n",
       "      <td>2022-08-26</td>\n",
       "      <td>1</td>\n",
       "    </tr>\n",
       "  </tbody>\n",
       "</table>\n",
       "<p>4337 rows × 8 columns</p>\n",
       "</div>"
      ],
      "text/plain": [
       "      user_id  order_id        action        time        date  group  \\\n",
       "0         964      1255  create_order  2022-08-26  2022-08-26      0   \n",
       "1         965      1256  create_order  2022-08-26  2022-08-26      1   \n",
       "2         964      1257  create_order  2022-08-26  2022-08-26      0   \n",
       "3         966      1258  create_order  2022-08-26  2022-08-26      0   \n",
       "4         967      1259  create_order  2022-08-26  2022-08-26      1   \n",
       "...       ...       ...           ...         ...         ...    ...   \n",
       "4332      990     59422  create_order  2022-09-08  2022-09-08      1   \n",
       "4333     1418     59439  create_order  2022-09-08  2022-09-08      1   \n",
       "4334     1605     59464  create_order  2022-09-08  2022-09-08      0   \n",
       "4335     1461     59487  create_order  2022-09-08  2022-09-08      0   \n",
       "4336     1376     59533  create_order  2022-09-08  2022-09-08      0   \n",
       "\n",
       "       first_buy  retention  \n",
       "0     2022-08-26          0  \n",
       "1     2022-08-26          0  \n",
       "2     2022-08-26          0  \n",
       "3     2022-08-26          0  \n",
       "4     2022-08-26          0  \n",
       "...          ...        ...  \n",
       "4332  2022-08-26          1  \n",
       "4333  2022-08-26          1  \n",
       "4334  2022-08-26          1  \n",
       "4335  2022-08-26          1  \n",
       "4336  2022-08-26          1  \n",
       "\n",
       "[4337 rows x 8 columns]"
      ]
     },
     "execution_count": 175,
     "metadata": {},
     "output_type": "execute_result"
    }
   ],
   "source": [
    "users\n"
   ]
  },
  {
   "cell_type": "code",
   "execution_count": 176,
   "metadata": {
    "ExecuteTime": {
     "end_time": "2023-12-24T08:38:07.702313Z",
     "start_time": "2023-12-24T08:38:07.658049Z"
    },
    "trusted": false
   },
   "outputs": [
    {
     "data": {
      "text/html": [
       "<div>\n",
       "<style scoped>\n",
       "    .dataframe tbody tr th:only-of-type {\n",
       "        vertical-align: middle;\n",
       "    }\n",
       "\n",
       "    .dataframe tbody tr th {\n",
       "        vertical-align: top;\n",
       "    }\n",
       "\n",
       "    .dataframe thead th {\n",
       "        text-align: right;\n",
       "    }\n",
       "</style>\n",
       "<table border=\"1\" class=\"dataframe\">\n",
       "  <thead>\n",
       "    <tr style=\"text-align: right;\">\n",
       "      <th>retention</th>\n",
       "      <th>group</th>\n",
       "      <th>не вернулся</th>\n",
       "      <th>вернулся</th>\n",
       "    </tr>\n",
       "  </thead>\n",
       "  <tbody>\n",
       "    <tr>\n",
       "      <th>0</th>\n",
       "      <td>0</td>\n",
       "      <td>661</td>\n",
       "      <td>1030</td>\n",
       "    </tr>\n",
       "    <tr>\n",
       "      <th>1</th>\n",
       "      <td>1</td>\n",
       "      <td>723</td>\n",
       "      <td>1923</td>\n",
       "    </tr>\n",
       "  </tbody>\n",
       "</table>\n",
       "</div>"
      ],
      "text/plain": [
       "retention  group  не вернулся  вернулся\n",
       "0              0          661      1030\n",
       "1              1          723      1923"
      ]
     },
     "execution_count": 176,
     "metadata": {},
     "output_type": "execute_result"
    }
   ],
   "source": [
    "pd.crosstab(users.group, users.retention).reset_index().rename(columns = {0 : 'не вернулся', 1 : 'вернулся'})\n"
   ]
  },
  {
   "cell_type": "markdown",
   "metadata": {},
   "source": [
    "Как видно из таблицы в группе 1 пользователи возвращаются в приложение значительно чаще"
   ]
  },
  {
   "cell_type": "code",
   "execution_count": 177,
   "metadata": {
    "ExecuteTime": {
     "end_time": "2023-12-24T08:38:07.703128Z",
     "start_time": "2023-12-24T08:38:07.664206Z"
    },
    "trusted": false
   },
   "outputs": [
    {
     "name": "stdout",
     "output_type": "stream",
     "text": [
      "statistic = 65.18147790764827 p-value = 6.830855428403218e-16\n"
     ]
    }
   ],
   "source": [
    "pd.crosstab(users.group, users.retention)\n",
    "df_ret = pd.crosstab(users.group, users.retention)\n",
    "table = np.array(df_ret)\n",
    "res = chi2_contingency(table)\n",
    "print('statistic =', res[0], 'p-value =', res[1])\n"
   ]
  },
  {
   "cell_type": "markdown",
   "metadata": {},
   "source": [
    "### Вывод:\n",
    "Критерий хи-квадрат показал, что показатель статистики выше критических значений, а также значение p-value меньше 0.05. Это означает, что мы должны принять альтернативную гипотезу, о том, что частота возвращения пользователей отличается между группами статистически значимо."
   ]
  },
  {
   "cell_type": "markdown",
   "metadata": {},
   "source": [
    "### Сравним средний чек пользователей по группам:"
   ]
  },
  {
   "cell_type": "markdown",
   "metadata": {},
   "source": [
    "### Гипотеза: оказала ли новая система рекомендаций статистически значимое влияние на средний чек пользователей"
   ]
  },
  {
   "cell_type": "markdown",
   "metadata": {},
   "source": [
    "- H0 - значения среднего чека в группах не отличаются статистически значимо\n",
    "- H1 - значения среднего чека в группах отличаются статистически значимо"
   ]
  },
  {
   "cell_type": "raw",
   "metadata": {},
   "source": [
    "Группа_0:\n"
   ]
  },
  {
   "cell_type": "code",
   "execution_count": 178,
   "metadata": {
    "ExecuteTime": {
     "end_time": "2023-12-24T08:38:07.747419Z",
     "start_time": "2023-12-24T08:38:07.698637Z"
    },
    "trusted": false
   },
   "outputs": [],
   "source": [
    "avg_check_group0 = user_order_prod.query('group == 0 and action == \"create_order\"').groupby(['user_id', 'order_id'], as_index = False).agg({'price' : 'sum'}) \\\n",
    "    .groupby('user_id',as_index = False).agg({'price' : 'mean'})\n"
   ]
  },
  {
   "cell_type": "code",
   "execution_count": 179,
   "metadata": {
    "ExecuteTime": {
     "end_time": "2023-12-24T08:38:07.869064Z",
     "start_time": "2023-12-24T08:38:07.749531Z"
    },
    "trusted": false
   },
   "outputs": [
    {
     "data": {
      "text/plain": [
       "<Axes: xlabel='price', ylabel='Count'>"
      ]
     },
     "execution_count": 179,
     "metadata": {},
     "output_type": "execute_result"
    },
    {
     "data": {
      "image/png": "[encoded data removed]",
      "text/plain": [
       "<Figure size 1200x600 with 1 Axes>"
      ]
     },
     "metadata": {},
     "output_type": "display_data"
    }
   ],
   "source": [
    "sns.histplot(avg_check_group0.price)\n"
   ]
  },
  {
   "cell_type": "raw",
   "metadata": {},
   "source": [
    "Группа_1:\n"
   ]
  },
  {
   "cell_type": "code",
   "execution_count": 180,
   "metadata": {
    "ExecuteTime": {
     "end_time": "2023-12-24T08:38:07.870113Z",
     "start_time": "2023-12-24T08:38:07.849108Z"
    },
    "trusted": false
   },
   "outputs": [],
   "source": [
    "avg_check_group1 = user_order_prod.query('group == 1 and action == \"create_order\"').groupby(['user_id', 'order_id'], as_index = False).agg({'price' : 'sum'}) \\\n",
    "    .groupby('user_id',as_index = False).agg({'price' : 'mean'})\n"
   ]
  },
  {
   "cell_type": "code",
   "execution_count": 181,
   "metadata": {
    "ExecuteTime": {
     "end_time": "2023-12-24T08:38:08.001544Z",
     "start_time": "2023-12-24T08:38:07.856796Z"
    },
    "trusted": false
   },
   "outputs": [
    {
     "data": {
      "text/plain": [
       "<Axes: xlabel='price', ylabel='Count'>"
      ]
     },
     "execution_count": 181,
     "metadata": {},
     "output_type": "execute_result"
    },
    {
     "data": {
      "image/png": "[encoded data removed]",
      "text/plain": [
       "<Figure size 1200x600 with 1 Axes>"
      ]
     },
     "metadata": {},
     "output_type": "display_data"
    }
   ],
   "source": [
    "sns.histplot(avg_check_group1.price)\n"
   ]
  },
  {
   "cell_type": "markdown",
   "metadata": {},
   "source": [
    "Как видно на графиках и в группе 0 и группе 1 распределение среднего чека близко к нормальному, но с очевидными выбросами "
   ]
  },
  {
   "cell_type": "raw",
   "metadata": {},
   "source": [
    "Проверим распределение среднего чека по группам на нормальность с помощью теста Шапиро-Уилка:\n"
   ]
  },
  {
   "cell_type": "code",
   "execution_count": 182,
   "metadata": {
    "ExecuteTime": {
     "end_time": "2023-12-24T08:38:08.026611Z",
     "start_time": "2023-12-24T08:38:07.999811Z"
    },
    "trusted": false
   },
   "outputs": [
    {
     "data": {
      "text/plain": [
       "ShapiroResult(statistic=0.9676898121833801, pvalue=3.1785560850039474e-09)"
      ]
     },
     "execution_count": 182,
     "metadata": {},
     "output_type": "execute_result"
    }
   ],
   "source": [
    "stats.shapiro(avg_check_group0.price)\n"
   ]
  },
  {
   "cell_type": "code",
   "execution_count": 183,
   "metadata": {
    "ExecuteTime": {
     "end_time": "2023-12-24T08:38:08.028396Z",
     "start_time": "2023-12-24T08:38:08.006071Z"
    },
    "trusted": false
   },
   "outputs": [
    {
     "data": {
      "text/plain": [
       "ShapiroResult(statistic=0.9591402411460876, pvalue=1.4001211301462035e-10)"
      ]
     },
     "execution_count": 183,
     "metadata": {},
     "output_type": "execute_result"
    }
   ],
   "source": [
    "stats.shapiro(avg_check_group1.price)\n"
   ]
  },
  {
   "cell_type": "markdown",
   "metadata": {},
   "source": [
    "Согласно тесту Шапиро-Уилка, в обеих группах средний чек имеет нормальное распределение, поэтому для сравнения средних значений я буду использовать Т-критерий."
   ]
  },
  {
   "cell_type": "code",
   "execution_count": 184,
   "metadata": {
    "ExecuteTime": {
     "end_time": "2023-12-24T08:38:08.029546Z",
     "start_time": "2023-12-24T08:38:08.011822Z"
    },
    "trusted": false
   },
   "outputs": [
    {
     "data": {
      "text/plain": [
       "Ttest_indResult(statistic=1.1434040168228712, pvalue=0.25314048853143994)"
      ]
     },
     "execution_count": 184,
     "metadata": {},
     "output_type": "execute_result"
    }
   ],
   "source": [
    "stats.ttest_ind(avg_check_group0.price, avg_check_group1.price)\n"
   ]
  },
  {
   "cell_type": "markdown",
   "metadata": {},
   "source": [
    "### Вывод: \n",
    "Значение p-value больше 0.05, поэтому принимаю нулевую гипотезу о том, что средний чек статистически значимо не отличается. Новая система рекомендаций не оказала значимого влияние на средний чек"
   ]
  },
  {
   "cell_type": "code",
   "execution_count": 184,
   "metadata": {
    "ExecuteTime": {
     "end_time": "2023-12-24T08:38:08.159996Z",
     "start_time": "2023-12-24T08:38:08.017120Z"
    },
    "trusted": false
   },
   "outputs": [],
   "source": []
  },
  {
   "cell_type": "markdown",
   "metadata": {},
   "source": [
    "### Общий вывод:\n",
    "Новая система рекомендаций определенно принесла пользу бизнесу, так как виден значительный рост заказов пользователей и также оказала влияние на желание пользователей возвращаться в наше приложение для повторных заказов. На средний чек в свою очередь значимого влияния система рекомендаций не оказала. \n",
    "Исходя из полученных результатов новую систему рекомендаций необходимо активировать для всех пользователей сервиса, так как увеличение числа заказов и желание пользователей возвращаться в наше приложение напрямую отразится в росте выручки компании.\n"
   ]
  },
  {
   "cell_type": "code",
   "execution_count": 184,
   "metadata": {
    "ExecuteTime": {
     "end_time": "2023-12-24T08:38:08.161051Z",
     "start_time": "2023-12-24T08:38:08.021627Z"
    },
    "collapsed": false
   },
   "outputs": [],
   "source": []
  }
 ],
 "metadata": {
  "kernelspec": {
   "display_name": "Python 3",
   "language": "python",
   "name": "python3"
  },
  "language_info": {
   "codemirror_mode": {
    "name": "ipython",
    "version": 3
   },
   "file_extension": ".py",
   "mimetype": "text/x-python",
   "name": "python",
   "nbconvert_exporter": "python",
   "pygments_lexer": "ipython3",
   "version": "3.7.3"
  }
 },
 "nbformat": 4,
 "nbformat_minor": 4
}
